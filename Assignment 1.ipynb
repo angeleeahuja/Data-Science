{
 "cells": [
  {
   "cell_type": "markdown",
   "id": "48685ae7",
   "metadata": {},
   "source": [
    "Data Science Notebook"
   ]
  },
  {
   "cell_type": "markdown",
   "id": "2bd2c8ea",
   "metadata": {},
   "source": [
    "**Introduction** :\n",
    "\n",
    "Welcome to this Data Science notebook, where we'll explore various data science concepts and tools."
   ]
  },
  {
   "cell_type": "markdown",
   "id": "97856354",
   "metadata": {},
   "source": [
    "**Data Science Languages**\n",
    "1. Python\n",
    "2. R\n",
    "3. SQL\n",
    "4. Java\n",
    "5. Scala\n",
    "6. Julia"
   ]
  },
  {
   "cell_type": "markdown",
   "id": "bfe3982f",
   "metadata": {},
   "source": [
    "**Data Science Libraries**\n",
    "\n",
    "- NumPy\n",
    "- Pandas\n",
    "- Matplotlib\n",
    "- Seaborn\n",
    "- scikit-learn\n",
    "- TensorFlow\n",
    "- Keras\n",
    "- ggplot2"
   ]
  },
  {
   "cell_type": "markdown",
   "id": "b9c9b944",
   "metadata": {},
   "source": [
    "**Data Science Tools**\n",
    "\n",
    "| Tool           | Description                            |\n",
    "|----------------|----------------------------------------|\n",
    "| Jupyter Notebook | Interactive Data Science Environment  |\n",
    "| RStudio        | Integrated Development Environment for R |\n",
    "| GitHub         | Version Control and Collaboration Platform |\n"
   ]
  },
  {
   "cell_type": "markdown",
   "id": "1176e049",
   "metadata": {},
   "source": [
    "**Arithmetic Expression Examples**\n",
    "\n",
    "Let's explore some basic arithmetic expressions to understand how calculations work."
   ]
  },
  {
   "cell_type": "code",
   "execution_count": 4,
   "id": "55ca9029",
   "metadata": {},
   "outputs": [
    {
     "name": "stdout",
     "output_type": "stream",
     "text": [
      "Sum:  8\n",
      "Product:  15\n"
     ]
    }
   ],
   "source": [
    "addition = 5 + 3\n",
    "print(\"Sum: \" , addition)\n",
    "product = 5 * 3\n",
    "print(\"Product: \", product)"
   ]
  },
  {
   "cell_type": "code",
   "execution_count": 10,
   "id": "15db6ed4",
   "metadata": {},
   "outputs": [
    {
     "name": "stdout",
     "output_type": "stream",
     "text": [
      "150 minutes :  2.5 hours\n"
     ]
    }
   ],
   "source": [
    "minutes = 150\n",
    "hours = minutes / 60\n",
    "print(\"150 minutes :  {} hours\".format(hours))"
   ]
  },
  {
   "cell_type": "markdown",
   "id": "66220407",
   "metadata": {},
   "source": [
    "**Objectives**\n",
    "\n",
    "In this notebook, we aim to:\n",
    "1. Explore data science languages and libraries.\n",
    "2. Perform basic arithmetic operations.\n",
    "3. Understand data science tools and their applications."
   ]
  },
  {
   "cell_type": "markdown",
   "id": "d9c80ad8",
   "metadata": {},
   "source": [
    "**Author**\n",
    "\n",
    "This notebook is created by Angelee Ahuja."
   ]
  }
 ],
 "metadata": {
  "kernelspec": {
   "display_name": "Python 3 (ipykernel)",
   "language": "python",
   "name": "python3"
  },
  "language_info": {
   "codemirror_mode": {
    "name": "ipython",
    "version": 3
   },
   "file_extension": ".py",
   "mimetype": "text/x-python",
   "name": "python",
   "nbconvert_exporter": "python",
   "pygments_lexer": "ipython3",
   "version": "3.11.3"
  }
 },
 "nbformat": 4,
 "nbformat_minor": 5
}
